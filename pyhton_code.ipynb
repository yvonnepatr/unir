{
 "cells": [
  {
   "cell_type": "code",
   "execution_count": 11,
   "metadata": {},
   "outputs": [],
   "source": [
    "import pandas as pd\n",
    "\n",
    "# Cargar el archivo CSV en un DataFrame con encoding adecuado\n",
    "try:\n",
    "    df = pd.read_csv('modified_cleaned_listings.csv', encoding='utf-8')\n",
    "except UnicodeDecodeError:\n",
    "    df = pd.read_csv('modified_cleaned_listings.csv', encoding='latin1')\n"
   ]
  },
  {
   "cell_type": "code",
   "execution_count": 12,
   "metadata": {},
   "outputs": [
    {
     "name": "stdout",
     "output_type": "stream",
     "text": [
      "Archivos separados correctamente: 'archivo_reviews_no_nulos.csv' y 'archivo_reviews_nulos.csv'\n"
     ]
    }
   ],
   "source": [
    "\n",
    "# Filtrar los datos: uno con valores no nulos y otro con valores nulos en review_scores_rating\n",
    "df_not_null = df[df['review_scores_rating'].notna()]\n",
    "df_null = df[df['review_scores_rating'].isna()]\n",
    "\n",
    "# Guardar los resultados en dos archivos CSV separados\n",
    "df_not_null.to_csv('archivo_reviews_no_nulos.csv', index=False)\n",
    "df_null.to_csv('archivo_reviews_nulos.csv', index=False)\n",
    "\n",
    "print(\"Archivos separados correctamente: 'archivo_reviews_no_nulos.csv' y 'archivo_reviews_nulos.csv'\")"
   ]
  }
 ],
 "metadata": {
  "kernelspec": {
   "display_name": "Python 3",
   "language": "python",
   "name": "python3"
  },
  "language_info": {
   "codemirror_mode": {
    "name": "ipython",
    "version": 3
   },
   "file_extension": ".py",
   "mimetype": "text/x-python",
   "name": "python",
   "nbconvert_exporter": "python",
   "pygments_lexer": "ipython3",
   "version": "3.12.7"
  }
 },
 "nbformat": 4,
 "nbformat_minor": 2
}
